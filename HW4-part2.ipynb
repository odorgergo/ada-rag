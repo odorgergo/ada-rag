{
 "cells": [
  {
   "cell_type": "code",
   "execution_count": 16,
   "metadata": {},
   "outputs": [],
   "source": [
    "import pandas as pd\n",
    "import numpy as np\n",
    "import matplotlib.pyplot as plt\n",
    "import seaborn as sns\n",
    "%matplotlib inline\n",
    "from sklearn.datasets import fetch_20newsgroups\n",
    "from sklearn.feature_extraction.text import TfidfVectorizer\n"
   ]
  },
  {
   "cell_type": "code",
   "execution_count": 3,
   "metadata": {},
   "outputs": [
    {
     "name": "stdout",
     "output_type": "stream",
     "text": [
      "['alt.atheism', 'comp.graphics', 'comp.os.ms-windows.misc', 'comp.sys.ibm.pc.hardware', 'comp.sys.mac.hardware', 'comp.windows.x', 'misc.forsale', 'rec.autos', 'rec.motorcycles', 'rec.sport.baseball', 'rec.sport.hockey', 'sci.crypt', 'sci.electronics', 'sci.med', 'sci.space', 'soc.religion.christian', 'talk.politics.guns', 'talk.politics.mideast', 'talk.politics.misc', 'talk.religion.misc']\n"
     ]
    }
   ],
   "source": [
    "newsgroups_train = fetch_20newsgroups(subset='train')\n",
    "print(list(newsgroups_train.target_names))"
   ]
  },
  {
   "cell_type": "code",
   "execution_count": 10,
   "metadata": {},
   "outputs": [
    {
     "data": {
      "text/plain": [
       "11314"
      ]
     },
     "execution_count": 10,
     "metadata": {},
     "output_type": "execute_result"
    }
   ],
   "source": [
    "len(newsgroups_train.target)"
   ]
  },
  {
   "cell_type": "code",
   "execution_count": 11,
   "metadata": {},
   "outputs": [],
   "source": [
    "newsgroups_test = fetch_20newsgroups(subset='test')"
   ]
  },
  {
   "cell_type": "code",
   "execution_count": 12,
   "metadata": {},
   "outputs": [
    {
     "data": {
      "text/plain": [
       "7532"
      ]
     },
     "execution_count": 12,
     "metadata": {},
     "output_type": "execute_result"
    }
   ],
   "source": [
    "len(newsgroups_test.target)"
   ]
  },
  {
   "cell_type": "code",
   "execution_count": 13,
   "metadata": {},
   "outputs": [],
   "source": [
    "newsgroups = fetch_20newsgroups(subset='all')"
   ]
  },
  {
   "cell_type": "code",
   "execution_count": 15,
   "metadata": {},
   "outputs": [
    {
     "name": "stdout",
     "output_type": "stream",
     "text": [
      "['alt.atheism', 'comp.graphics', 'comp.os.ms-windows.misc', 'comp.sys.ibm.pc.hardware', 'comp.sys.mac.hardware', 'comp.windows.x', 'misc.forsale', 'rec.autos', 'rec.motorcycles', 'rec.sport.baseball', 'rec.sport.hockey', 'sci.crypt', 'sci.electronics', 'sci.med', 'sci.space', 'soc.religion.christian', 'talk.politics.guns', 'talk.politics.mideast', 'talk.politics.misc', 'talk.religion.misc']\n"
     ]
    }
   ],
   "source": [
    "print(list(newsgroups.target_names))"
   ]
  },
  {
   "cell_type": "code",
   "execution_count": 63,
   "metadata": {},
   "outputs": [
    {
     "data": {
      "text/plain": [
       "(18846, 173451)"
      ]
     },
     "execution_count": 63,
     "metadata": {},
     "output_type": "execute_result"
    }
   ],
   "source": [
    "vectorizer = TfidfVectorizer(stop_words='english')\n",
    "vectors = vectorizer.fit_transform(newsgroups.data)\n",
    "vectors.shape"
   ]
  },
  {
   "cell_type": "code",
   "execution_count": 64,
   "metadata": {},
   "outputs": [
    {
     "data": {
      "text/plain": [
       "(18846,)"
      ]
     },
     "execution_count": 64,
     "metadata": {},
     "output_type": "execute_result"
    }
   ],
   "source": [
    "classes = newsgroups.target\n",
    "classes.shape"
   ]
  },
  {
   "cell_type": "code",
   "execution_count": 65,
   "metadata": {},
   "outputs": [
    {
     "data": {
      "text/plain": [
       "dict_keys(['data', 'filenames', 'target_names', 'target', 'DESCR', 'description'])"
      ]
     },
     "execution_count": 65,
     "metadata": {},
     "output_type": "execute_result"
    }
   ],
   "source": [
    "newsgroups.keys()"
   ]
  },
  {
   "cell_type": "code",
   "execution_count": 66,
   "metadata": {},
   "outputs": [
    {
     "name": "stdout",
     "output_type": "stream",
     "text": [
      "total number of zeros: 2142075\n",
      "113.66205030245145 average zero per data sample\n"
     ]
    }
   ],
   "source": [
    "print('total number of zeros:', vectors.nnz)\n",
    "print('{} average zero per data sample'.format(vectors.nnz / float(vectors.shape[0])))"
   ]
  },
  {
   "cell_type": "code",
   "execution_count": 67,
   "metadata": {},
   "outputs": [],
   "source": [
    "ratio = 0.1\n",
    "indices = np.random.permutation(vectors.shape[0])\n",
    "split1 = int(np.floor(ratio*vectors.shape[0]))\n",
    "split2 = int(np.floor(ratio*vectors.shape[0]))*2\n",
    "test_vectors = vectors[indices[:split1]]\n",
    "valid_vectors = vectors[indices[split1:split2]]\n",
    "train_vectors = vectors[indices[split2:]]"
   ]
  },
  {
   "cell_type": "code",
   "execution_count": 68,
   "metadata": {},
   "outputs": [],
   "source": [
    "test_classes = classes[indices[:split1]]\n",
    "valid_classes = classes[indices[split1:split2]]\n",
    "train_classes = classes[indices[split2:]]"
   ]
  },
  {
   "cell_type": "code",
   "execution_count": 123,
   "metadata": {},
   "outputs": [
    {
     "name": "stdout",
     "output_type": "stream",
     "text": [
      "1994\n"
     ]
    }
   ],
   "source": [
    "print(vectorizer.get_feature_names()[9000])"
   ]
  },
  {
   "cell_type": "code",
   "execution_count": 85,
   "metadata": {},
   "outputs": [],
   "source": [
    "tokenizer = vectorizer.build_tokenizer()"
   ]
  },
  {
   "cell_type": "code",
   "execution_count": 124,
   "metadata": {},
   "outputs": [
    {
     "data": {
      "text/plain": [
       "True"
      ]
     },
     "execution_count": 124,
     "metadata": {},
     "output_type": "execute_result"
    }
   ],
   "source": [
    "'1994' in tokenizer(newsgroups.data[indices[0]])"
   ]
  },
  {
   "cell_type": "code",
   "execution_count": 122,
   "metadata": {},
   "outputs": [
    {
     "name": "stdout",
     "output_type": "stream",
     "text": [
      "  (0, 111509)\t0.115033277103\n",
      "  (0, 142795)\t0.118532289583\n",
      "  (0, 152659)\t0.100697560918\n",
      "  (0, 73484)\t0.0922669673306\n",
      "  (0, 136847)\t0.100697560918\n",
      "  (0, 58329)\t0.0954580449945\n",
      "  (0, 89293)\t0.203342204814\n",
      "  (0, 38627)\t0.0897414963392\n",
      "  (0, 103069)\t0.0867271207017\n",
      "  (0, 142362)\t0.0870274514067\n",
      "  (0, 103423)\t0.0886515637655\n",
      "  (0, 9000)\t0.080753731646\n",
      "  (0, 172977)\t0.0974347262584\n",
      "  (0, 100335)\t0.0627250593986\n",
      "  (0, 66584)\t0.194869452517\n",
      "  (0, 42440)\t0.106602683515\n",
      "  (0, 35545)\t0.21320536703\n",
      "  (0, 59596)\t0.27157939166\n",
      "  (0, 130528)\t0.525850574437\n",
      "  (0, 55153)\t0.0848099152315\n",
      "  (0, 117814)\t0.0974347262584\n",
      "  (0, 146480)\t0.151765625773\n",
      "  (0, 61870)\t0.0718775653184\n",
      "  (0, 80106)\t0.142228985924\n",
      "  (0, 159785)\t0.250132039812\n",
      "  :\t:\n",
      "  (0, 71842)\t0.046293993626\n",
      "  (0, 92244)\t0.0499831374235\n",
      "  (0, 166254)\t0.0490374398542\n",
      "  (0, 65020)\t0.0300319712981\n",
      "  (0, 122822)\t0.140948398094\n",
      "  (0, 13613)\t0.0449986432282\n",
      "  (0, 131520)\t0.0386177944337\n",
      "  (0, 65690)\t0.0447233911447\n",
      "  (0, 152674)\t0.0295051005409\n",
      "  (0, 106103)\t0.0334778161483\n",
      "  (0, 116752)\t0.0503204029602\n",
      "  (0, 65773)\t0.026966879956\n",
      "  (0, 155265)\t0.0433997561301\n",
      "  (0, 123762)\t0.0523023332102\n",
      "  (0, 74750)\t0.0560191219877\n",
      "  (0, 52125)\t0.10046303009\n",
      "  (0, 166608)\t0.0202103229656\n",
      "  (0, 158387)\t0.0234809527655\n",
      "  (0, 107167)\t0.0642611416345\n",
      "  (0, 164092)\t0.117501993096\n",
      "  (0, 80355)\t0.0770883324622\n",
      "  (0, 102005)\t0.0121989685539\n",
      "  (0, 121002)\t0.0126459276812\n",
      "  (0, 148238)\t0.012162775561\n",
      "  (0, 68433)\t0.0689525868405\n"
     ]
    }
   ],
   "source": [
    "print(test_vectors.getrow(0))"
   ]
  },
  {
   "cell_type": "code",
   "execution_count": null,
   "metadata": {},
   "outputs": [],
   "source": []
  }
 ],
 "metadata": {
  "kernelspec": {
   "display_name": "Python 3",
   "language": "python",
   "name": "python3"
  },
  "language_info": {
   "codemirror_mode": {
    "name": "ipython",
    "version": 3
   },
   "file_extension": ".py",
   "mimetype": "text/x-python",
   "name": "python",
   "nbconvert_exporter": "python",
   "pygments_lexer": "ipython3",
   "version": "3.6.1"
  }
 },
 "nbformat": 4,
 "nbformat_minor": 2
}
