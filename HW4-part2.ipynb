{
 "cells": [
  {
   "cell_type": "code",
   "execution_count": 1,
   "metadata": {},
   "outputs": [],
   "source": [
    "import pandas as pd\n",
    "import numpy as np\n",
    "import matplotlib.pyplot as plt\n",
    "import seaborn as sns\n",
    "%matplotlib inline\n",
    "from sklearn.datasets import fetch_20newsgroups\n",
    "from sklearn.feature_extraction.text import TfidfVectorizer\n"
   ]
  },
  {
   "cell_type": "markdown",
   "metadata": {},
   "source": [
    "### Question 2: Applied ML\n",
    "first, we load the 20 Newsgroup data set from sklearn library. This data set contains about 18000 newsgroup post on 20 topics. There is already a tarin and test split in the original data set which can be selected by picking the `subset` attribute as train or test. However, here we choose to load the whole data set and then we split it manually for trani and test data.\n",
    "\n",
    "It is important to remove the `headers`, `footers`, `quotes` from the data set in order to have more realistic results. The reason is that it is easy for a classifier to overfit on particular things that appear in the 20 Newsgroups data, such as newsgroup headers. Therefore, without removing these parts our classifier would not be generalized enough."
   ]
  },
  {
   "cell_type": "code",
   "execution_count": 6,
   "metadata": {},
   "outputs": [],
   "source": [
    "newsgroups = fetch_20newsgroups(subset='all', remove=('headers','footers','quotes'))"
   ]
  },
  {
   "cell_type": "markdown",
   "metadata": {},
   "source": [
    "here we see a list of 20 topics contained in the 20 Newsgroup dataset."
   ]
  },
  {
   "cell_type": "code",
   "execution_count": 7,
   "metadata": {},
   "outputs": [
    {
     "name": "stdout",
     "output_type": "stream",
     "text": [
      "['alt.atheism', 'comp.graphics', 'comp.os.ms-windows.misc', 'comp.sys.ibm.pc.hardware', 'comp.sys.mac.hardware', 'comp.windows.x', 'misc.forsale', 'rec.autos', 'rec.motorcycles', 'rec.sport.baseball', 'rec.sport.hockey', 'sci.crypt', 'sci.electronics', 'sci.med', 'sci.space', 'soc.religion.christian', 'talk.politics.guns', 'talk.politics.mideast', 'talk.politics.misc', 'talk.religion.misc']\n"
     ]
    }
   ],
   "source": [
    "print(list(newsgroups.target_names))"
   ]
  },
  {
   "cell_type": "markdown",
   "metadata": {},
   "source": [
    "Next, we ecompute the Tf-Idf features for every article using <a href=http://scikit-learn.org/stable/modules/generated/sklearn.feature_extraction.text.TfidfVectorizer.html#sklearn.feature_extraction.text.TfidfVectorizer.get_feature_names>TfidfVectorizer</a>. The output of this function is a matrix with number of rows equal to the number of articles and the number of columns equal to the whole number of terms found in the data set. We also choose to remove the stop words when compuring the Tf-Idf matrix. Stop words are words which are useless for the classification task, i.e. words which can appear in any document regardless of its topic for example: the, for, from, at, etc.\n",
    "\n",
    "Below we can see that TfidfVectorizer has found 134101 different terms in the whole corpus."
   ]
  },
  {
   "cell_type": "code",
   "execution_count": 8,
   "metadata": {},
   "outputs": [
    {
     "data": {
      "text/plain": [
       "(18846, 134101)"
      ]
     },
     "execution_count": 8,
     "metadata": {},
     "output_type": "execute_result"
    }
   ],
   "source": [
    "vectorizer = TfidfVectorizer(stop_words='english')\n",
    "vectors = vectorizer.fit_transform(newsgroups.data)\n",
    "vectors.shape"
   ]
  },
  {
   "cell_type": "code",
   "execution_count": 9,
   "metadata": {},
   "outputs": [
    {
     "data": {
      "text/plain": [
       "(18846,)"
      ]
     },
     "execution_count": 9,
     "metadata": {},
     "output_type": "execute_result"
    }
   ],
   "source": [
    "classes = newsgroups.target\n",
    "classes.shape"
   ]
  },
  {
   "cell_type": "markdown",
   "metadata": {},
   "source": [
    "Originally, the output of the `fetch_20newsgroups` is a dictionary with 6 keys. We mostly work with the data which contains the textual content of each post and also target_names which contains the class names."
   ]
  },
  {
   "cell_type": "code",
   "execution_count": 10,
   "metadata": {},
   "outputs": [
    {
     "data": {
      "text/plain": [
       "dict_keys(['data', 'filenames', 'target_names', 'target', 'DESCR', 'description'])"
      ]
     },
     "execution_count": 10,
     "metadata": {},
     "output_type": "execute_result"
    }
   ],
   "source": [
    "newsgroups.keys()"
   ]
  },
  {
   "cell_type": "markdown",
   "metadata": {},
   "source": [
    "As expected, the Tf-Idf matrix is a sparse matrix since each post contains only a subset of all terms. Below you can see that we have around 65 zeros for each post on average."
   ]
  },
  {
   "cell_type": "code",
   "execution_count": 11,
   "metadata": {},
   "outputs": [
    {
     "name": "stdout",
     "output_type": "stream",
     "text": [
      "total number of zeros: 1229435\n",
      "65.23585906823729 average zero per data sample\n"
     ]
    }
   ],
   "source": [
    "print('total number of zeros:', vectors.nnz)\n",
    "print('{} average zero per data sample'.format(vectors.nnz / float(vectors.shape[0])))"
   ]
  },
  {
   "cell_type": "markdown",
   "metadata": {},
   "source": [
    "We, split our data as 10% test data and 90% training data. First of all we shuffle the indices and then we split the data in order to avoid having any biases because of the time of the documents, their topic, etc."
   ]
  },
  {
   "cell_type": "code",
   "execution_count": 12,
   "metadata": {},
   "outputs": [],
   "source": [
    "ratio = 0.1\n",
    "indices = np.random.permutation(vectors.shape[0])\n",
    "split1 = int(np.floor(ratio*vectors.shape[0]))\n",
    "test_vectors = vectors[indices[:split1]]\n",
    "train_vectors = vectors[indices[split1:]]"
   ]
  },
  {
   "cell_type": "code",
   "execution_count": 13,
   "metadata": {},
   "outputs": [],
   "source": [
    "test_classes = classes[indices[:split1]]\n",
    "train_classes = classes[indices[split1:]]"
   ]
  },
  {
   "cell_type": "markdown",
   "metadata": {},
   "source": [
    "We make a list of all terms contained in the corpus. We can see that even after removing stop words still the first 5 terms (sorted alphabetically) are some meaningless numbers."
   ]
  },
  {
   "cell_type": "code",
   "execution_count": 55,
   "metadata": {},
   "outputs": [
    {
     "data": {
      "text/plain": [
       "['00', '000', '0000', '00000', '000000']"
      ]
     },
     "execution_count": 55,
     "metadata": {},
     "output_type": "execute_result"
    }
   ],
   "source": [
    "feature_names = vectorizer.get_feature_names()\n",
    "feature_names[:5]"
   ]
  },
  {
   "cell_type": "code",
   "execution_count": 16,
   "metadata": {},
   "outputs": [],
   "source": [
    "from sklearn.ensemble import RandomForestClassifier"
   ]
  },
  {
   "cell_type": "markdown",
   "metadata": {},
   "source": [
    "Now we train a simple random forest classifier with the default parameters on the training data and compute its accuracy on test data."
   ]
  },
  {
   "cell_type": "code",
   "execution_count": 17,
   "metadata": {},
   "outputs": [
    {
     "data": {
      "text/plain": [
       "RandomForestClassifier(bootstrap=True, class_weight=None, criterion='gini',\n",
       "            max_depth=None, max_features='auto', max_leaf_nodes=None,\n",
       "            min_impurity_split=1e-07, min_samples_leaf=1,\n",
       "            min_samples_split=2, min_weight_fraction_leaf=0.0,\n",
       "            n_estimators=10, n_jobs=1, oob_score=False, random_state=None,\n",
       "            verbose=0, warm_start=False)"
      ]
     },
     "execution_count": 17,
     "metadata": {},
     "output_type": "execute_result"
    }
   ],
   "source": [
    "RFclassifier = RandomForestClassifier()\n",
    "RFclassifier.fit(train_vectors,train_classes)"
   ]
  },
  {
   "cell_type": "code",
   "execution_count": 18,
   "metadata": {},
   "outputs": [],
   "source": [
    "test_res = RFclassifier.predict(test_vectors)"
   ]
  },
  {
   "cell_type": "markdown",
   "metadata": {},
   "source": [
    "We can see that the accuracy on test data is fairly low."
   ]
  },
  {
   "cell_type": "code",
   "execution_count": 19,
   "metadata": {},
   "outputs": [
    {
     "name": "stdout",
     "output_type": "stream",
     "text": [
      "accuracy = 0.5567940552016986%\n"
     ]
    }
   ],
   "source": [
    "accuracy = np.mean([test_res[i]==test_classes[i] for i in range(len(test_classes))])\n",
    "print('accuracy = {}%'.format(accuracy))"
   ]
  },
  {
   "cell_type": "markdown",
   "metadata": {},
   "source": [
    "Now we try to fine tune the parameters `n_estimsators` and `max_depth` of random forest. The first parameter is the number of trees in the random forest and the second one is that he maximum depth of each tree in random forest. As high values of max_depth parameter leads to significant increase in the execution time of training, we first made a grid search with coarse intervals of max_depth (we removed the results of this part unfortunately) and then we reduced the range of max_depth parameter but with finer intervals."
   ]
  },
  {
   "cell_type": "code",
   "execution_count": 113,
   "metadata": {},
   "outputs": [],
   "source": [
    "from sklearn.model_selection import GridSearchCV, cross_val_score\n",
    "n_estimator = [i for i in range(100,500,100)]\n",
    "max_depth = [i for i in range(70,100,10)]\n",
    "clf = GridSearchCV(estimator=RFclassifier, param_grid={'n_estimators':n_estimator,'max_depth':max_depth},n_jobs=-1)\n",
    "clf.fit(train_vectors,train_classes)"
   ]
  },
  {
   "cell_type": "markdown",
   "metadata": {},
   "source": [
    "Next we make a pandas data frame from the results of grid search cross-validation. We sort the row by the rank of test score (the mean test score on the fold left out for validation). We can see that we get the best result for a maximum depth of 90 and 400 number of trees (both maximum values in the chosen intervals). This leads us to increase the number of trees even more to get better accuracy."
   ]
  },
  {
   "cell_type": "code",
   "execution_count": 80,
   "metadata": {},
   "outputs": [],
   "source": [
    "df = pd.DataFrame(clf.cv_results_)\n",
    "df.sort_values('rank_test_score',inplace=True)"
   ]
  },
  {
   "cell_type": "code",
   "execution_count": 82,
   "metadata": {
    "scrolled": false
   },
   "outputs": [
    {
     "data": {
      "text/html": [
       "<div>\n",
       "<style>\n",
       "    .dataframe thead tr:only-child th {\n",
       "        text-align: right;\n",
       "    }\n",
       "\n",
       "    .dataframe thead th {\n",
       "        text-align: left;\n",
       "    }\n",
       "\n",
       "    .dataframe tbody tr th {\n",
       "        vertical-align: top;\n",
       "    }\n",
       "</style>\n",
       "<table border=\"1\" class=\"dataframe\">\n",
       "  <thead>\n",
       "    <tr style=\"text-align: right;\">\n",
       "      <th></th>\n",
       "      <th>mean_fit_time</th>\n",
       "      <th>mean_score_time</th>\n",
       "      <th>mean_test_score</th>\n",
       "      <th>mean_train_score</th>\n",
       "      <th>param_max_depth</th>\n",
       "      <th>param_n_estimators</th>\n",
       "      <th>params</th>\n",
       "      <th>rank_test_score</th>\n",
       "      <th>split0_test_score</th>\n",
       "      <th>split0_train_score</th>\n",
       "      <th>split1_test_score</th>\n",
       "      <th>split1_train_score</th>\n",
       "      <th>split2_test_score</th>\n",
       "      <th>split2_train_score</th>\n",
       "      <th>std_fit_time</th>\n",
       "      <th>std_score_time</th>\n",
       "      <th>std_test_score</th>\n",
       "      <th>std_train_score</th>\n",
       "    </tr>\n",
       "  </thead>\n",
       "  <tbody>\n",
       "    <tr>\n",
       "      <th>11</th>\n",
       "      <td>193.704068</td>\n",
       "      <td>1.861396</td>\n",
       "      <td>0.665959</td>\n",
       "      <td>0.930019</td>\n",
       "      <td>90</td>\n",
       "      <td>400</td>\n",
       "      <td>{'max_depth': 90, 'n_estimators': 400}</td>\n",
       "      <td>1</td>\n",
       "      <td>0.670081</td>\n",
       "      <td>0.929204</td>\n",
       "      <td>0.667787</td>\n",
       "      <td>0.928552</td>\n",
       "      <td>0.659996</td>\n",
       "      <td>0.932302</td>\n",
       "      <td>8.582209</td>\n",
       "      <td>0.063540</td>\n",
       "      <td>0.004315</td>\n",
       "      <td>0.001636</td>\n",
       "    </tr>\n",
       "    <tr>\n",
       "      <th>10</th>\n",
       "      <td>164.356243</td>\n",
       "      <td>1.463070</td>\n",
       "      <td>0.664367</td>\n",
       "      <td>0.928987</td>\n",
       "      <td>90</td>\n",
       "      <td>300</td>\n",
       "      <td>{'max_depth': 90, 'n_estimators': 300}</td>\n",
       "      <td>2</td>\n",
       "      <td>0.666196</td>\n",
       "      <td>0.927522</td>\n",
       "      <td>0.667433</td>\n",
       "      <td>0.926607</td>\n",
       "      <td>0.659465</td>\n",
       "      <td>0.932833</td>\n",
       "      <td>3.241109</td>\n",
       "      <td>0.011763</td>\n",
       "      <td>0.003500</td>\n",
       "      <td>0.002745</td>\n",
       "    </tr>\n",
       "    <tr>\n",
       "      <th>7</th>\n",
       "      <td>192.822175</td>\n",
       "      <td>1.914934</td>\n",
       "      <td>0.663896</td>\n",
       "      <td>0.923003</td>\n",
       "      <td>80</td>\n",
       "      <td>400</td>\n",
       "      <td>{'max_depth': 80, 'n_estimators': 400}</td>\n",
       "      <td>3</td>\n",
       "      <td>0.661957</td>\n",
       "      <td>0.921858</td>\n",
       "      <td>0.667079</td>\n",
       "      <td>0.920594</td>\n",
       "      <td>0.662653</td>\n",
       "      <td>0.926558</td>\n",
       "      <td>4.649892</td>\n",
       "      <td>0.012043</td>\n",
       "      <td>0.002269</td>\n",
       "      <td>0.002566</td>\n",
       "    </tr>\n",
       "    <tr>\n",
       "      <th>6</th>\n",
       "      <td>144.726100</td>\n",
       "      <td>1.384768</td>\n",
       "      <td>0.663188</td>\n",
       "      <td>0.921588</td>\n",
       "      <td>80</td>\n",
       "      <td>300</td>\n",
       "      <td>{'max_depth': 80, 'n_estimators': 300}</td>\n",
       "      <td>4</td>\n",
       "      <td>0.667079</td>\n",
       "      <td>0.920000</td>\n",
       "      <td>0.666372</td>\n",
       "      <td>0.920064</td>\n",
       "      <td>0.656101</td>\n",
       "      <td>0.924702</td>\n",
       "      <td>4.070652</td>\n",
       "      <td>0.030675</td>\n",
       "      <td>0.005015</td>\n",
       "      <td>0.002202</td>\n",
       "    </tr>\n",
       "    <tr>\n",
       "      <th>3</th>\n",
       "      <td>185.075461</td>\n",
       "      <td>1.976391</td>\n",
       "      <td>0.661950</td>\n",
       "      <td>0.912569</td>\n",
       "      <td>70</td>\n",
       "      <td>400</td>\n",
       "      <td>{'max_depth': 70, 'n_estimators': 400}</td>\n",
       "      <td>5</td>\n",
       "      <td>0.664430</td>\n",
       "      <td>0.911947</td>\n",
       "      <td>0.661596</td>\n",
       "      <td>0.909895</td>\n",
       "      <td>0.659819</td>\n",
       "      <td>0.915864</td>\n",
       "      <td>1.029161</td>\n",
       "      <td>0.081186</td>\n",
       "      <td>0.001899</td>\n",
       "      <td>0.002476</td>\n",
       "    </tr>\n",
       "  </tbody>\n",
       "</table>\n",
       "</div>"
      ],
      "text/plain": [
       "    mean_fit_time  mean_score_time  mean_test_score  mean_train_score  \\\n",
       "11     193.704068         1.861396         0.665959          0.930019   \n",
       "10     164.356243         1.463070         0.664367          0.928987   \n",
       "7      192.822175         1.914934         0.663896          0.923003   \n",
       "6      144.726100         1.384768         0.663188          0.921588   \n",
       "3      185.075461         1.976391         0.661950          0.912569   \n",
       "\n",
       "   param_max_depth param_n_estimators                                  params  \\\n",
       "11              90                400  {'max_depth': 90, 'n_estimators': 400}   \n",
       "10              90                300  {'max_depth': 90, 'n_estimators': 300}   \n",
       "7               80                400  {'max_depth': 80, 'n_estimators': 400}   \n",
       "6               80                300  {'max_depth': 80, 'n_estimators': 300}   \n",
       "3               70                400  {'max_depth': 70, 'n_estimators': 400}   \n",
       "\n",
       "    rank_test_score  split0_test_score  split0_train_score  split1_test_score  \\\n",
       "11                1           0.670081            0.929204           0.667787   \n",
       "10                2           0.666196            0.927522           0.667433   \n",
       "7                 3           0.661957            0.921858           0.667079   \n",
       "6                 4           0.667079            0.920000           0.666372   \n",
       "3                 5           0.664430            0.911947           0.661596   \n",
       "\n",
       "    split1_train_score  split2_test_score  split2_train_score  std_fit_time  \\\n",
       "11            0.928552           0.659996            0.932302      8.582209   \n",
       "10            0.926607           0.659465            0.932833      3.241109   \n",
       "7             0.920594           0.662653            0.926558      4.649892   \n",
       "6             0.920064           0.656101            0.924702      4.070652   \n",
       "3             0.909895           0.659819            0.915864      1.029161   \n",
       "\n",
       "    std_score_time  std_test_score  std_train_score  \n",
       "11        0.063540        0.004315         0.001636  \n",
       "10        0.011763        0.003500         0.002745  \n",
       "7         0.012043        0.002269         0.002566  \n",
       "6         0.030675        0.005015         0.002202  \n",
       "3         0.081186        0.001899         0.002476  "
      ]
     },
     "execution_count": 82,
     "metadata": {},
     "output_type": "execute_result"
    }
   ],
   "source": [
    "df.head()"
   ]
  },
  {
   "cell_type": "markdown",
   "metadata": {},
   "source": [
    "However, having a large number of trees each have relatively a large maximum depth would cause huge execution times. Therefore, we decided to keep the maximum depth small and rather grow the number of trees."
   ]
  },
  {
   "cell_type": "code",
   "execution_count": 114,
   "metadata": {
    "scrolled": true
   },
   "outputs": [],
   "source": [
    "from sklearn.model_selection import GridSearchCV, cross_val_score\n",
    "n_estimator = [i for i in range(900,1500,100)]\n",
    "max_depth = [i for i in range(15,25,5)]\n",
    "clf = GridSearchCV(estimator=RFclassifier, param_grid={'n_estimators':n_estimator,'max_depth':max_depth},n_jobs=-1,cv=10)\n",
    "clf.fit(train_vectors,train_classes)"
   ]
  },
  {
   "cell_type": "code",
   "execution_count": 24,
   "metadata": {},
   "outputs": [],
   "source": [
    "df = pd.DataFrame(clf.cv_results_)\n",
    "df.sort_values('rank_test_score',inplace=True)"
   ]
  },
  {
   "cell_type": "markdown",
   "metadata": {},
   "source": [
    "The data frame below shows the results for 10 fold cross validation. As we can see the best score is significatly lower than previous best result. So it seems that max_depth parameter have more significat effect on the accuracy."
   ]
  },
  {
   "cell_type": "code",
   "execution_count": 29,
   "metadata": {},
   "outputs": [
    {
     "data": {
      "text/html": [
       "<div>\n",
       "<style>\n",
       "    .dataframe thead tr:only-child th {\n",
       "        text-align: right;\n",
       "    }\n",
       "\n",
       "    .dataframe thead th {\n",
       "        text-align: left;\n",
       "    }\n",
       "\n",
       "    .dataframe tbody tr th {\n",
       "        vertical-align: top;\n",
       "    }\n",
       "</style>\n",
       "<table border=\"1\" class=\"dataframe\">\n",
       "  <thead>\n",
       "    <tr style=\"text-align: right;\">\n",
       "      <th></th>\n",
       "      <th>mean_fit_time</th>\n",
       "      <th>mean_score_time</th>\n",
       "      <th>mean_test_score</th>\n",
       "      <th>mean_train_score</th>\n",
       "      <th>param_max_depth</th>\n",
       "      <th>param_n_estimators</th>\n",
       "      <th>params</th>\n",
       "      <th>rank_test_score</th>\n",
       "      <th>split0_test_score</th>\n",
       "      <th>split0_train_score</th>\n",
       "      <th>...</th>\n",
       "      <th>split7_test_score</th>\n",
       "      <th>split7_train_score</th>\n",
       "      <th>split8_test_score</th>\n",
       "      <th>split8_train_score</th>\n",
       "      <th>split9_test_score</th>\n",
       "      <th>split9_train_score</th>\n",
       "      <th>std_fit_time</th>\n",
       "      <th>std_score_time</th>\n",
       "      <th>std_test_score</th>\n",
       "      <th>std_train_score</th>\n",
       "    </tr>\n",
       "  </thead>\n",
       "  <tbody>\n",
       "    <tr>\n",
       "      <th>11</th>\n",
       "      <td>206.403024</td>\n",
       "      <td>2.846908</td>\n",
       "      <td>0.627815</td>\n",
       "      <td>0.735801</td>\n",
       "      <td>20</td>\n",
       "      <td>1400</td>\n",
       "      <td>{'max_depth': 20, 'n_estimators': 1400}</td>\n",
       "      <td>1</td>\n",
       "      <td>0.626831</td>\n",
       "      <td>0.736021</td>\n",
       "      <td>...</td>\n",
       "      <td>0.624113</td>\n",
       "      <td>0.736804</td>\n",
       "      <td>0.626257</td>\n",
       "      <td>0.737738</td>\n",
       "      <td>0.629739</td>\n",
       "      <td>0.734909</td>\n",
       "      <td>5.851897</td>\n",
       "      <td>0.656986</td>\n",
       "      <td>0.005390</td>\n",
       "      <td>0.001231</td>\n",
       "    </tr>\n",
       "    <tr>\n",
       "      <th>6</th>\n",
       "      <td>258.454027</td>\n",
       "      <td>5.016123</td>\n",
       "      <td>0.627167</td>\n",
       "      <td>0.734825</td>\n",
       "      <td>20</td>\n",
       "      <td>900</td>\n",
       "      <td>{'max_depth': 20, 'n_estimators': 900}</td>\n",
       "      <td>2</td>\n",
       "      <td>0.629760</td>\n",
       "      <td>0.733727</td>\n",
       "      <td>...</td>\n",
       "      <td>0.617021</td>\n",
       "      <td>0.735036</td>\n",
       "      <td>0.619752</td>\n",
       "      <td>0.732434</td>\n",
       "      <td>0.636848</td>\n",
       "      <td>0.737070</td>\n",
       "      <td>124.671179</td>\n",
       "      <td>4.633514</td>\n",
       "      <td>0.008866</td>\n",
       "      <td>0.001725</td>\n",
       "    </tr>\n",
       "    <tr>\n",
       "      <th>8</th>\n",
       "      <td>172.650512</td>\n",
       "      <td>2.227015</td>\n",
       "      <td>0.626990</td>\n",
       "      <td>0.736090</td>\n",
       "      <td>20</td>\n",
       "      <td>1100</td>\n",
       "      <td>{'max_depth': 20, 'n_estimators': 1100}</td>\n",
       "      <td>3</td>\n",
       "      <td>0.632689</td>\n",
       "      <td>0.734448</td>\n",
       "      <td>...</td>\n",
       "      <td>0.617612</td>\n",
       "      <td>0.736477</td>\n",
       "      <td>0.623300</td>\n",
       "      <td>0.735774</td>\n",
       "      <td>0.638033</td>\n",
       "      <td>0.735564</td>\n",
       "      <td>6.941250</td>\n",
       "      <td>0.413777</td>\n",
       "      <td>0.006558</td>\n",
       "      <td>0.001622</td>\n",
       "    </tr>\n",
       "    <tr>\n",
       "      <th>9</th>\n",
       "      <td>175.958252</td>\n",
       "      <td>2.087759</td>\n",
       "      <td>0.626695</td>\n",
       "      <td>0.735500</td>\n",
       "      <td>20</td>\n",
       "      <td>1200</td>\n",
       "      <td>{'max_depth': 20, 'n_estimators': 1200}</td>\n",
       "      <td>4</td>\n",
       "      <td>0.627417</td>\n",
       "      <td>0.735169</td>\n",
       "      <td>...</td>\n",
       "      <td>0.619976</td>\n",
       "      <td>0.737590</td>\n",
       "      <td>0.625074</td>\n",
       "      <td>0.733547</td>\n",
       "      <td>0.632109</td>\n",
       "      <td>0.733665</td>\n",
       "      <td>2.792028</td>\n",
       "      <td>0.224548</td>\n",
       "      <td>0.007453</td>\n",
       "      <td>0.001770</td>\n",
       "    </tr>\n",
       "    <tr>\n",
       "      <th>10</th>\n",
       "      <td>191.684709</td>\n",
       "      <td>2.696582</td>\n",
       "      <td>0.626223</td>\n",
       "      <td>0.735048</td>\n",
       "      <td>20</td>\n",
       "      <td>1300</td>\n",
       "      <td>{'max_depth': 20, 'n_estimators': 1300}</td>\n",
       "      <td>5</td>\n",
       "      <td>0.637376</td>\n",
       "      <td>0.734907</td>\n",
       "      <td>...</td>\n",
       "      <td>0.615248</td>\n",
       "      <td>0.738441</td>\n",
       "      <td>0.627439</td>\n",
       "      <td>0.735512</td>\n",
       "      <td>0.633886</td>\n",
       "      <td>0.735367</td>\n",
       "      <td>4.519714</td>\n",
       "      <td>0.630316</td>\n",
       "      <td>0.009602</td>\n",
       "      <td>0.001854</td>\n",
       "    </tr>\n",
       "    <tr>\n",
       "      <th>7</th>\n",
       "      <td>271.482889</td>\n",
       "      <td>2.253534</td>\n",
       "      <td>0.623747</td>\n",
       "      <td>0.734131</td>\n",
       "      <td>20</td>\n",
       "      <td>1000</td>\n",
       "      <td>{'max_depth': 20, 'n_estimators': 1000}</td>\n",
       "      <td>6</td>\n",
       "      <td>0.623902</td>\n",
       "      <td>0.734513</td>\n",
       "      <td>...</td>\n",
       "      <td>0.616430</td>\n",
       "      <td>0.735560</td>\n",
       "      <td>0.620343</td>\n",
       "      <td>0.736232</td>\n",
       "      <td>0.638033</td>\n",
       "      <td>0.734058</td>\n",
       "      <td>184.672345</td>\n",
       "      <td>0.618140</td>\n",
       "      <td>0.007267</td>\n",
       "      <td>0.001235</td>\n",
       "    </tr>\n",
       "    <tr>\n",
       "      <th>5</th>\n",
       "      <td>198.187554</td>\n",
       "      <td>3.269956</td>\n",
       "      <td>0.617321</td>\n",
       "      <td>0.696564</td>\n",
       "      <td>15</td>\n",
       "      <td>1400</td>\n",
       "      <td>{'max_depth': 15, 'n_estimators': 1400}</td>\n",
       "      <td>7</td>\n",
       "      <td>0.623316</td>\n",
       "      <td>0.695969</td>\n",
       "      <td>...</td>\n",
       "      <td>0.609338</td>\n",
       "      <td>0.695940</td>\n",
       "      <td>0.613247</td>\n",
       "      <td>0.697007</td>\n",
       "      <td>0.632109</td>\n",
       "      <td>0.695430</td>\n",
       "      <td>15.059122</td>\n",
       "      <td>0.926720</td>\n",
       "      <td>0.007486</td>\n",
       "      <td>0.001354</td>\n",
       "    </tr>\n",
       "    <tr>\n",
       "      <th>4</th>\n",
       "      <td>143.185758</td>\n",
       "      <td>3.339114</td>\n",
       "      <td>0.615552</td>\n",
       "      <td>0.695548</td>\n",
       "      <td>15</td>\n",
       "      <td>1300</td>\n",
       "      <td>{'max_depth': 15, 'n_estimators': 1300}</td>\n",
       "      <td>8</td>\n",
       "      <td>0.622730</td>\n",
       "      <td>0.697607</td>\n",
       "      <td>...</td>\n",
       "      <td>0.605201</td>\n",
       "      <td>0.697708</td>\n",
       "      <td>0.615021</td>\n",
       "      <td>0.697335</td>\n",
       "      <td>0.626185</td>\n",
       "      <td>0.694383</td>\n",
       "      <td>8.400814</td>\n",
       "      <td>1.927593</td>\n",
       "      <td>0.009330</td>\n",
       "      <td>0.002290</td>\n",
       "    </tr>\n",
       "    <tr>\n",
       "      <th>2</th>\n",
       "      <td>126.310065</td>\n",
       "      <td>2.051716</td>\n",
       "      <td>0.614432</td>\n",
       "      <td>0.695672</td>\n",
       "      <td>15</td>\n",
       "      <td>1100</td>\n",
       "      <td>{'max_depth': 15, 'n_estimators': 1100}</td>\n",
       "      <td>9</td>\n",
       "      <td>0.619801</td>\n",
       "      <td>0.693281</td>\n",
       "      <td>...</td>\n",
       "      <td>0.605201</td>\n",
       "      <td>0.698690</td>\n",
       "      <td>0.612064</td>\n",
       "      <td>0.697073</td>\n",
       "      <td>0.625000</td>\n",
       "      <td>0.696085</td>\n",
       "      <td>7.743560</td>\n",
       "      <td>0.841904</td>\n",
       "      <td>0.007274</td>\n",
       "      <td>0.001895</td>\n",
       "    </tr>\n",
       "    <tr>\n",
       "      <th>3</th>\n",
       "      <td>128.958863</td>\n",
       "      <td>1.648862</td>\n",
       "      <td>0.613489</td>\n",
       "      <td>0.695902</td>\n",
       "      <td>15</td>\n",
       "      <td>1200</td>\n",
       "      <td>{'max_depth': 15, 'n_estimators': 1200}</td>\n",
       "      <td>10</td>\n",
       "      <td>0.619215</td>\n",
       "      <td>0.692822</td>\n",
       "      <td>...</td>\n",
       "      <td>0.606383</td>\n",
       "      <td>0.692993</td>\n",
       "      <td>0.605559</td>\n",
       "      <td>0.696418</td>\n",
       "      <td>0.618483</td>\n",
       "      <td>0.692484</td>\n",
       "      <td>2.607042</td>\n",
       "      <td>0.151737</td>\n",
       "      <td>0.008274</td>\n",
       "      <td>0.002231</td>\n",
       "    </tr>\n",
       "  </tbody>\n",
       "</table>\n",
       "<p>10 rows × 32 columns</p>\n",
       "</div>"
      ],
      "text/plain": [
       "    mean_fit_time  mean_score_time  mean_test_score  mean_train_score  \\\n",
       "11     206.403024         2.846908         0.627815          0.735801   \n",
       "6      258.454027         5.016123         0.627167          0.734825   \n",
       "8      172.650512         2.227015         0.626990          0.736090   \n",
       "9      175.958252         2.087759         0.626695          0.735500   \n",
       "10     191.684709         2.696582         0.626223          0.735048   \n",
       "7      271.482889         2.253534         0.623747          0.734131   \n",
       "5      198.187554         3.269956         0.617321          0.696564   \n",
       "4      143.185758         3.339114         0.615552          0.695548   \n",
       "2      126.310065         2.051716         0.614432          0.695672   \n",
       "3      128.958863         1.648862         0.613489          0.695902   \n",
       "\n",
       "   param_max_depth param_n_estimators  \\\n",
       "11              20               1400   \n",
       "6               20                900   \n",
       "8               20               1100   \n",
       "9               20               1200   \n",
       "10              20               1300   \n",
       "7               20               1000   \n",
       "5               15               1400   \n",
       "4               15               1300   \n",
       "2               15               1100   \n",
       "3               15               1200   \n",
       "\n",
       "                                     params  rank_test_score  \\\n",
       "11  {'max_depth': 20, 'n_estimators': 1400}                1   \n",
       "6    {'max_depth': 20, 'n_estimators': 900}                2   \n",
       "8   {'max_depth': 20, 'n_estimators': 1100}                3   \n",
       "9   {'max_depth': 20, 'n_estimators': 1200}                4   \n",
       "10  {'max_depth': 20, 'n_estimators': 1300}                5   \n",
       "7   {'max_depth': 20, 'n_estimators': 1000}                6   \n",
       "5   {'max_depth': 15, 'n_estimators': 1400}                7   \n",
       "4   {'max_depth': 15, 'n_estimators': 1300}                8   \n",
       "2   {'max_depth': 15, 'n_estimators': 1100}                9   \n",
       "3   {'max_depth': 15, 'n_estimators': 1200}               10   \n",
       "\n",
       "    split0_test_score  split0_train_score       ...         split7_test_score  \\\n",
       "11           0.626831            0.736021       ...                  0.624113   \n",
       "6            0.629760            0.733727       ...                  0.617021   \n",
       "8            0.632689            0.734448       ...                  0.617612   \n",
       "9            0.627417            0.735169       ...                  0.619976   \n",
       "10           0.637376            0.734907       ...                  0.615248   \n",
       "7            0.623902            0.734513       ...                  0.616430   \n",
       "5            0.623316            0.695969       ...                  0.609338   \n",
       "4            0.622730            0.697607       ...                  0.605201   \n",
       "2            0.619801            0.693281       ...                  0.605201   \n",
       "3            0.619215            0.692822       ...                  0.606383   \n",
       "\n",
       "    split7_train_score  split8_test_score  split8_train_score  \\\n",
       "11            0.736804           0.626257            0.737738   \n",
       "6             0.735036           0.619752            0.732434   \n",
       "8             0.736477           0.623300            0.735774   \n",
       "9             0.737590           0.625074            0.733547   \n",
       "10            0.738441           0.627439            0.735512   \n",
       "7             0.735560           0.620343            0.736232   \n",
       "5             0.695940           0.613247            0.697007   \n",
       "4             0.697708           0.615021            0.697335   \n",
       "2             0.698690           0.612064            0.697073   \n",
       "3             0.692993           0.605559            0.696418   \n",
       "\n",
       "    split9_test_score  split9_train_score  std_fit_time  std_score_time  \\\n",
       "11           0.629739            0.734909      5.851897        0.656986   \n",
       "6            0.636848            0.737070    124.671179        4.633514   \n",
       "8            0.638033            0.735564      6.941250        0.413777   \n",
       "9            0.632109            0.733665      2.792028        0.224548   \n",
       "10           0.633886            0.735367      4.519714        0.630316   \n",
       "7            0.638033            0.734058    184.672345        0.618140   \n",
       "5            0.632109            0.695430     15.059122        0.926720   \n",
       "4            0.626185            0.694383      8.400814        1.927593   \n",
       "2            0.625000            0.696085      7.743560        0.841904   \n",
       "3            0.618483            0.692484      2.607042        0.151737   \n",
       "\n",
       "    std_test_score  std_train_score  \n",
       "11        0.005390         0.001231  \n",
       "6         0.008866         0.001725  \n",
       "8         0.006558         0.001622  \n",
       "9         0.007453         0.001770  \n",
       "10        0.009602         0.001854  \n",
       "7         0.007267         0.001235  \n",
       "5         0.007486         0.001354  \n",
       "4         0.009330         0.002290  \n",
       "2         0.007274         0.001895  \n",
       "3         0.008274         0.002231  \n",
       "\n",
       "[10 rows x 32 columns]"
      ]
     },
     "execution_count": 29,
     "metadata": {},
     "output_type": "execute_result"
    }
   ],
   "source": [
    "df.head(10)"
   ]
  },
  {
   "cell_type": "markdown",
   "metadata": {},
   "source": [
    "FInally, for getting our bst results we do a cross validation with our best parameters max_depth=90 and n_estimators=1500. "
   ]
  },
  {
   "cell_type": "code",
   "execution_count": 30,
   "metadata": {},
   "outputs": [
    {
     "name": "stdout",
     "output_type": "stream",
     "text": [
      "Fitting 10 folds for each of 1 candidates, totalling 10 fits\n",
      "[CV] max_depth=90, n_estimators=1500 .................................\n",
      "[CV] max_depth=90, n_estimators=1500 .................................\n",
      "[CV] max_depth=90, n_estimators=1500 .................................\n",
      "[CV] max_depth=90, n_estimators=1500 .................................\n",
      "[CV] .................. max_depth=90, n_estimators=1500, total=20.2min\n",
      "[CV] max_depth=90, n_estimators=1500 .................................\n",
      "[CV] .................. max_depth=90, n_estimators=1500, total=20.4min\n",
      "[CV] max_depth=90, n_estimators=1500 .................................\n",
      "[CV] .................. max_depth=90, n_estimators=1500, total=20.6min\n",
      "[CV] max_depth=90, n_estimators=1500 .................................\n",
      "[CV] .................. max_depth=90, n_estimators=1500, total=20.8min\n",
      "[CV] max_depth=90, n_estimators=1500 .................................\n",
      "[CV] .................. max_depth=90, n_estimators=1500, total=33.4min\n",
      "[CV] max_depth=90, n_estimators=1500 .................................\n",
      "[CV] .................. max_depth=90, n_estimators=1500, total=33.8min\n",
      "[CV] max_depth=90, n_estimators=1500 .................................\n",
      "[CV] .................. max_depth=90, n_estimators=1500, total=34.3min\n",
      "[CV] .................. max_depth=90, n_estimators=1500, total=34.1min\n",
      "[CV] .................. max_depth=90, n_estimators=1500, total=18.0min\n",
      "[CV] .................. max_depth=90, n_estimators=1500, total=18.4min\n"
     ]
    },
    {
     "name": "stderr",
     "output_type": "stream",
     "text": [
      "[Parallel(n_jobs=-1)]: Done  10 out of  10 | elapsed: 75.1min finished\n"
     ]
    },
    {
     "data": {
      "text/plain": [
       "GridSearchCV(cv=10, error_score='raise',\n",
       "       estimator=RandomForestClassifier(bootstrap=True, class_weight=None, criterion='gini',\n",
       "            max_depth=None, max_features='auto', max_leaf_nodes=None,\n",
       "            min_impurity_split=1e-07, min_samples_leaf=1,\n",
       "            min_samples_split=2, min_weight_fraction_leaf=0.0,\n",
       "            n_estimators=10, n_jobs=1, oob_score=False, random_state=None,\n",
       "            verbose=0, warm_start=False),\n",
       "       fit_params={}, iid=True, n_jobs=-1,\n",
       "       param_grid={'n_estimators': [1500], 'max_depth': [90]},\n",
       "       pre_dispatch='2*n_jobs', refit=True, return_train_score=True,\n",
       "       scoring=None, verbose=2)"
      ]
     },
     "execution_count": 30,
     "metadata": {},
     "output_type": "execute_result"
    }
   ],
   "source": [
    "n_estimator = [i for i in range(1500,1600,100)]\n",
    "max_depth = [i for i in range(90,100,10)]\n",
    "clf = GridSearchCV(estimator=RFclassifier, param_grid={'n_estimators':n_estimator,'max_depth':max_depth},verbose=2,n_jobs=-1,cv=10)\n",
    "clf.fit(train_vectors,train_classes)"
   ]
  },
  {
   "cell_type": "code",
   "execution_count": 31,
   "metadata": {},
   "outputs": [],
   "source": [
    "df1 = pd.DataFrame(clf.cv_results_)\n",
    "df1.sort_values('rank_test_score',inplace=True)"
   ]
  },
  {
   "cell_type": "markdown",
   "metadata": {},
   "source": [
    "We can see that our best accuracy on test data is 67.8%. Compared to the first grid search we have almost tripled our n_estimators while keeping max_depth the same, however the increase in the test score is not very significant given that the execution time was much higher for the latter parameter. This again shows that max_depth is more effective.\n",
    "\n",
    "Apart from this, to get better scores much more preprocessing should be done on the textual data. For example as we showed above there were some all zeros terms in data which seemed meaningless for classification and probably should be removed. Also stemming and lemmatization will also help to both reduce the number of terms in Tf-Idf and increase the accuracy."
   ]
  },
  {
   "cell_type": "code",
   "execution_count": 56,
   "metadata": {},
   "outputs": [
    {
     "data": {
      "text/html": [
       "<div>\n",
       "<style>\n",
       "    .dataframe thead tr:only-child th {\n",
       "        text-align: right;\n",
       "    }\n",
       "\n",
       "    .dataframe thead th {\n",
       "        text-align: left;\n",
       "    }\n",
       "\n",
       "    .dataframe tbody tr th {\n",
       "        vertical-align: top;\n",
       "    }\n",
       "</style>\n",
       "<table border=\"1\" class=\"dataframe\">\n",
       "  <thead>\n",
       "    <tr style=\"text-align: right;\">\n",
       "      <th></th>\n",
       "      <th>mean_fit_time</th>\n",
       "      <th>mean_score_time</th>\n",
       "      <th>mean_test_score</th>\n",
       "      <th>mean_train_score</th>\n",
       "      <th>param_max_depth</th>\n",
       "      <th>param_n_estimators</th>\n",
       "      <th>params</th>\n",
       "      <th>rank_test_score</th>\n",
       "      <th>split0_test_score</th>\n",
       "      <th>split0_train_score</th>\n",
       "      <th>...</th>\n",
       "      <th>split7_test_score</th>\n",
       "      <th>split7_train_score</th>\n",
       "      <th>split8_test_score</th>\n",
       "      <th>split8_train_score</th>\n",
       "      <th>split9_test_score</th>\n",
       "      <th>split9_train_score</th>\n",
       "      <th>std_fit_time</th>\n",
       "      <th>std_score_time</th>\n",
       "      <th>std_test_score</th>\n",
       "      <th>std_train_score</th>\n",
       "    </tr>\n",
       "  </thead>\n",
       "  <tbody>\n",
       "    <tr>\n",
       "      <th>0</th>\n",
       "      <td>1515.116965</td>\n",
       "      <td>9.105797</td>\n",
       "      <td>0.678694</td>\n",
       "      <td>0.921884</td>\n",
       "      <td>90</td>\n",
       "      <td>1500</td>\n",
       "      <td>{'max_depth': 90, 'n_estimators': 1500}</td>\n",
       "      <td>1</td>\n",
       "      <td>0.681898</td>\n",
       "      <td>0.919961</td>\n",
       "      <td>...</td>\n",
       "      <td>0.675532</td>\n",
       "      <td>0.921676</td>\n",
       "      <td>0.678888</td>\n",
       "      <td>0.920437</td>\n",
       "      <td>0.685427</td>\n",
       "      <td>0.922417</td>\n",
       "      <td>419.340684</td>\n",
       "      <td>3.010958</td>\n",
       "      <td>0.005734</td>\n",
       "      <td>0.001103</td>\n",
       "    </tr>\n",
       "  </tbody>\n",
       "</table>\n",
       "<p>1 rows × 32 columns</p>\n",
       "</div>"
      ],
      "text/plain": [
       "   mean_fit_time  mean_score_time  mean_test_score  mean_train_score  \\\n",
       "0    1515.116965         9.105797         0.678694          0.921884   \n",
       "\n",
       "  param_max_depth param_n_estimators                                   params  \\\n",
       "0              90               1500  {'max_depth': 90, 'n_estimators': 1500}   \n",
       "\n",
       "   rank_test_score  split0_test_score  split0_train_score       ...         \\\n",
       "0                1           0.681898            0.919961       ...          \n",
       "\n",
       "   split7_test_score  split7_train_score  split8_test_score  \\\n",
       "0           0.675532            0.921676           0.678888   \n",
       "\n",
       "   split8_train_score  split9_test_score  split9_train_score  std_fit_time  \\\n",
       "0            0.920437           0.685427            0.922417    419.340684   \n",
       "\n",
       "   std_score_time  std_test_score  std_train_score  \n",
       "0        3.010958        0.005734         0.001103  \n",
       "\n",
       "[1 rows x 32 columns]"
      ]
     },
     "execution_count": 56,
     "metadata": {},
     "output_type": "execute_result"
    }
   ],
   "source": [
    "df1.head()"
   ]
  },
  {
   "cell_type": "code",
   "execution_count": 37,
   "metadata": {},
   "outputs": [
    {
     "data": {
      "text/plain": [
       "RandomForestClassifier(bootstrap=True, class_weight=None, criterion='gini',\n",
       "            max_depth=90, max_features='auto', max_leaf_nodes=None,\n",
       "            min_impurity_split=1e-07, min_samples_leaf=1,\n",
       "            min_samples_split=2, min_weight_fraction_leaf=0.0,\n",
       "            n_estimators=1500, n_jobs=-1, oob_score=False,\n",
       "            random_state=None, verbose=0, warm_start=False)"
      ]
     },
     "execution_count": 37,
     "metadata": {},
     "output_type": "execute_result"
    }
   ],
   "source": [
    "best_classifier = RandomForestClassifier(n_estimators=1500,max_depth=90,n_jobs=-1)\n",
    "best_classifier.fit(train_vectors,train_classes)"
   ]
  },
  {
   "cell_type": "markdown",
   "metadata": {},
   "source": [
    "At the end we make a prediction on test data using our best classifier. We see that the accuracy is 67.5% as expected."
   ]
  },
  {
   "cell_type": "code",
   "execution_count": 41,
   "metadata": {},
   "outputs": [],
   "source": [
    "test_res = best_classifier.predict(test_vectors)"
   ]
  },
  {
   "cell_type": "code",
   "execution_count": 42,
   "metadata": {},
   "outputs": [
    {
     "name": "stdout",
     "output_type": "stream",
     "text": [
      "accuracy = 0.6756900212314225%\n"
     ]
    }
   ],
   "source": [
    "accuracy = np.mean([test_res[i]==test_classes[i] for i in range(len(test_classes))])\n",
    "print('accuracy = {}%'.format(accuracy))"
   ]
  },
  {
   "cell_type": "code",
   "execution_count": 44,
   "metadata": {},
   "outputs": [],
   "source": [
    "from sklearn.metrics import confusion_matrix\n",
    "cnf_matrix = confusion_matrix(test_classes, test_res)"
   ]
  },
  {
   "cell_type": "markdown",
   "metadata": {},
   "source": [
    "Finally we visualize the confusion matrix of our classifier (<a href=http://scikit-learn.org/0.15/auto_examples/model_selection/plot_confusion_matrix.html>Confusion matrix</a>). It shows that how many time a class was mislabelled by other classes."
   ]
  },
  {
   "cell_type": "code",
   "execution_count": 54,
   "metadata": {},
   "outputs": [
    {
     "name": "stdout",
     "output_type": "stream",
     "text": [
      "Confusion matrix, without normalization\n"
     ]
    },
    {
     "data": {
      "image/png": "[encoded data removed]",
      "text/plain": [
       "<matplotlib.figure.Figure at 0x1d35445f8>"
      ]
     },
     "metadata": {},
     "output_type": "display_data"
    }
   ],
   "source": [
    "import itertools\n",
    "def plot_confusion_matrix(cm, classes,\n",
    "                          normalize=False,\n",
    "                          title='Confusion matrix',\n",
    "                          cmap=plt.cm.Blues):\n",
    "    \"\"\"\n",
    "    This function prints and plots the confusion matrix.\n",
    "    Normalization can be applied by setting `normalize=True`.\n",
    "    \"\"\"\n",
    "    if normalize:\n",
    "        cm = cm.astype('float') / cm.sum(axis=1)[:, np.newaxis]\n",
    "        print(\"Normalized confusion matrix\")\n",
    "    else:\n",
    "        print('Confusion matrix, without normalization')\n",
    "\n",
    "\n",
    "    plt.imshow(cm, interpolation='nearest', cmap=cmap)\n",
    "    plt.title(title)\n",
    "    plt.colorbar()\n",
    "    tick_marks = np.arange(len(classes))\n",
    "    plt.xticks(tick_marks, classes, rotation=90,fontsize=12)\n",
    "    plt.yticks(tick_marks, classes, fontsize=12)\n",
    "\n",
    "    fmt = '.2f' if normalize else 'd'\n",
    "    thresh = cm.max() / 2.\n",
    "    for i, j in itertools.product(range(cm.shape[0]), range(cm.shape[1])):\n",
    "        plt.text(j, i, format(cm[i, j], fmt),\n",
    "                 horizontalalignment=\"center\",\n",
    "                 color=\"white\" if cm[i, j] > thresh else \"black\")\n",
    "\n",
    "    plt.tight_layout()\n",
    "    plt.ylabel('True label',fontsize = 15)\n",
    "    plt.xlabel('Predicted label',fontsize = 15)\n",
    "plt.figure(figsize=(15,15))\n",
    "plot_confusion_matrix(cnf_matrix, classes=newsgroups.target_names,\n",
    "                      title='Confusion matrix, without normalization')\n"
   ]
  },
  {
   "cell_type": "markdown",
   "metadata": {},
   "source": [
    "In the above matrix we can see that in most of the cases, similar classes are mislabelled. For example _atheism_ is mislabelled 6 times with _religion_. We list below some other examples:\n",
    "- _ms-windows_ has been mislabelled 12 times with _hardware_.\n",
    "- _windows.x_ has benn mislabelled 9 times with _graphics_.\n",
    "- _autos_ has been mislabelled 9 times with _electronics_ which makes sense somehow. maybe there were some post about electronic system of cars or electric cars.\n",
    "- _christian_ has been mislabelled 23 times with _atheism_ and 19 times with _religion_.\n",
    "- _guns_ has been mislabelled 12 times with _politics_.\n",
    "\n",
    "The only wierd thing is about _motorcycles_ category which has been mislabelled with Quiet a lot of unrelated subjects. For example 16 times with _religion_ and 17 times with _atheism_ and 17 times with autos. It seems that smples in this class are contributing a lot to misclassifications."
   ]
  },
  {
   "cell_type": "markdown",
   "metadata": {},
   "source": [
    "Below we can see the top 10 most important terms in the corpus. We can easily find relationship between these words and categories. For example windows is probably related to _ms_windows_ and _windows.x_ class. "
   ]
  },
  {
   "cell_type": "code",
   "execution_count": 43,
   "metadata": {},
   "outputs": [
    {
     "data": {
      "text/plain": [
       "['windows',\n",
       " 'bike',\n",
       " 'car',\n",
       " 'sale',\n",
       " 'god',\n",
       " 'space',\n",
       " 'game',\n",
       " 'israel',\n",
       " 'clipper',\n",
       " 'hockey']"
      ]
     },
     "execution_count": 43,
     "metadata": {},
     "output_type": "execute_result"
    }
   ],
   "source": [
    "importance = best_classifier.feature_importances_\n",
    "sorted_indicies = np.argsort(importance)\n",
    "sorted_indicies = sorted_indicies[::-1]\n",
    "[feature_names[i] for i in sorted_indicies[:10]]"
   ]
  }
 ],
 "metadata": {
  "kernelspec": {
   "display_name": "Python 3",
   "language": "python",
   "name": "python3"
  },
  "language_info": {
   "codemirror_mode": {
    "name": "ipython",
    "version": 3
   },
   "file_extension": ".py",
   "mimetype": "text/x-python",
   "name": "python",
   "nbconvert_exporter": "python",
   "pygments_lexer": "ipython3",
   "version": "3.6.1"
  }
 },
 "nbformat": 4,
 "nbformat_minor": 2
}
